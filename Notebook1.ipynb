{
 "cells": [
  {
   "cell_type": "markdown",
   "metadata": {},
   "source": [
    "# part 1:"
   ]
  },
  {
   "cell_type": "markdown",
   "metadata": {},
   "source": [
    "### 1.1\n",
    "data:\n",
    "- 1/300 are identical twins.\n",
    "- 1/125 are not identical twins.\n",
    "\n",
    "we will use bayes:\n",
    "$$\\frac{\\frac{1}{300}}{\\frac{17}{1500}}=\\frac{5}{17}$$\n",
    "### 1.2\n",
    "data:\n",
    "- bowl number 1:  10 almonds 30 chocolate.\n",
    "- bowl number 2:  20 almonds 20 chocolate.\n",
    "we will calculate the probability to get chocolate:\n",
    "$$\\frac{2}{4}*\\frac{3}{4}+\\frac{1}{2}*\\frac{1}{2}=\\frac{5}{8}$$\n",
    "now we will use bayes:\n",
    "$$\\frac{\\frac{3}{4}*\\frac{1}{2}}{\\frac{5}{8}}= \\frac{3}{5}$$\n",
    "\n"
   ]
  },
  {
   "cell_type": "markdown",
   "metadata": {},
   "source": [
    "## 2.\n",
    "we have two options for the bag:\n",
    "\n",
    "1- the first bag is from 1994 and second from 1996.\n",
    "\n",
    "2- the first bag is from 1996 and the second is from 1994.\n",
    "\n",
    "at this point the probability for each one of them is $$ \\frac{1}{2}$$\n",
    "we will assume that the yellow came from the first and the green from the second.\n",
    "the probability if the first option is true is: $$\\frac{1}{5}*\\frac{1}{5} =\\frac{1}{25}$$\n",
    "the probability if the second option is true is: $$\\frac{1}{10}*\\frac{14}{100} =\\frac{7}{500}$$.\n",
    "now we will calculate the probability to get green and yellow: \n",
    "$$\\frac{1}{2}*\\frac{1}{25} +\\frac{1}{2}*\\frac{7}{500}=\\frac{27}{1000}$$\n",
    "now we will use bayes to discover the first option:\n",
    " $$\\frac{\\frac{1}{25}*\\frac{1}{2}}{\\frac{27}{1000}}=\\frac{20}{27}$$\n"
   ]
  },
  {
   "cell_type": "markdown",
   "metadata": {},
   "source": [
    "## 3.1\n",
    "data- \n",
    "- the probability to be sick is: $$\\frac{1}{10000}$$ and to be healthy :$$ \\frac{9999}{10000}$$\n",
    "- the probability to be for false positive is 1% while for false negtive is 0.\n",
    "\n",
    "we will use bayes:\n",
    "$$\\frac{1*\\frac{1}{10000}}{\\frac{1}{10000}+\\frac{1}{100}*\\frac{9999}{10000}}=\\frac{100}{10099}=0.0099$$\n",
    "\n",
    "## 3.2\n",
    "we will use bayes:\n",
    "$$\\frac{1*\\frac{1}{200}}{\\frac{1}{200}+\\frac{1}{100}*\\frac{199}{200}}=\\frac{100}{299}=0.334$$\n"
   ]
  },
  {
   "cell_type": "markdown",
   "metadata": {},
   "source": [
    "# part 2:"
   ]
  },
  {
   "cell_type": "markdown",
   "metadata": {},
   "source": [
    "### 1.\n",
    "first we will write the probabilitys to get number that dividing by 3.\n",
    "\n",
    "-P(3) = $$\\frac{2}{36}$$\n",
    "-P(6) = $$\\frac{5}{36}$$\n",
    "-P(9) = $$\\frac{4}{36}$$\n",
    "-P(12) = $$\\frac{1}{36}$$\n",
    "\n",
    "now we will calculate the sum of the probabilities:\n",
    "$$\\frac{2}{36}+\\frac{5}{36}+\\frac{4}{36}+\\frac{1}{36}=\\frac{12}{36}=\\frac{1}{3}$$\n",
    "now we will clculate the expected value:\n",
    "$$\\frac{1}{3}*6+\\frac{2}{3}*-3=0$$\n",
    "\n"
   ]
  },
  {
   "cell_type": "markdown",
   "metadata": {},
   "source": [
    "### 2.\n",
    "first we will write the probabilitys for thr number:\n",
    "\n",
    "-P(x>12) = $$\\frac{6}{25}$$\n",
    "-P(x=12) = $$\\frac{4}{25}$$\n",
    "-P(x>12) = $$\\frac{15}{25}$$\n",
    "\n",
    "now we will clculate the expected value:\n",
    "$$\\sum P(x)*x = \\frac{6}{25}*5 +\\frac{15}{25}*-6+\\frac{4}{25}*0=-2.4$$\n"
   ]
  },
  {
   "cell_type": "markdown",
   "metadata": {},
   "source": [
    "### 3.\n",
    "first we will calculate the mean:\n",
    "\n",
    "mean = $8*0.4=3.2$\n",
    "\n",
    "std = $\\sqrt{8*0.4*0.6} =\\sqrt{1.92}= 1.3856 $"
   ]
  },
  {
   "cell_type": "markdown",
   "metadata": {},
   "source": [
    "### 4.\n",
    "if we are looking on normal distribution 2 std are equal to 47.7%, the area between 26-30 is two std.\n",
    "\n",
    "P(26< x <30)=47.7%\n"
   ]
  },
  {
   "cell_type": "markdown",
   "metadata": {},
   "source": [
    "### 5.\n",
    "we will calculate the area on the way that x>3:\n",
    "\n",
    "P(x>3)=$\\frac{0.4*2}{2}=0.4$"
   ]
  },
  {
   "cell_type": "markdown",
   "metadata": {},
   "source": [
    "### 6.\n",
    "we will multiply the options.\n",
    "\n",
    "0.6*500 =300\n",
    "$$\\frac{300}{500}*\\frac{299}{499}*\\frac{200}{498}*\\frac{298}{497}*4=0.03456$$"
   ]
  },
  {
   "cell_type": "markdown",
   "metadata": {},
   "source": [
    "### 7.\n",
    "the expected value is:\n",
    "$$\\sum P(x)*x= -10*0.1-5*0.35+0*0.1+5*0.35+0.1*10=0$$"
   ]
  },
  {
   "cell_type": "code",
   "execution_count": null,
   "metadata": {},
   "outputs": [],
   "source": []
  },
  {
   "cell_type": "code",
   "execution_count": null,
   "metadata": {},
   "outputs": [],
   "source": []
  },
  {
   "cell_type": "code",
   "execution_count": null,
   "metadata": {},
   "outputs": [],
   "source": []
  },
  {
   "cell_type": "code",
   "execution_count": null,
   "metadata": {},
   "outputs": [],
   "source": []
  },
  {
   "cell_type": "code",
   "execution_count": null,
   "metadata": {},
   "outputs": [],
   "source": []
  },
  {
   "cell_type": "code",
   "execution_count": null,
   "metadata": {},
   "outputs": [],
   "source": []
  },
  {
   "cell_type": "code",
   "execution_count": null,
   "metadata": {},
   "outputs": [],
   "source": []
  },
  {
   "cell_type": "code",
   "execution_count": null,
   "metadata": {},
   "outputs": [],
   "source": []
  },
  {
   "cell_type": "code",
   "execution_count": null,
   "metadata": {},
   "outputs": [],
   "source": []
  },
  {
   "cell_type": "code",
   "execution_count": null,
   "metadata": {},
   "outputs": [],
   "source": []
  },
  {
   "cell_type": "code",
   "execution_count": null,
   "metadata": {},
   "outputs": [],
   "source": []
  },
  {
   "cell_type": "code",
   "execution_count": null,
   "metadata": {},
   "outputs": [],
   "source": []
  },
  {
   "cell_type": "code",
   "execution_count": null,
   "metadata": {},
   "outputs": [],
   "source": []
  },
  {
   "cell_type": "code",
   "execution_count": null,
   "metadata": {},
   "outputs": [],
   "source": []
  },
  {
   "cell_type": "code",
   "execution_count": null,
   "metadata": {},
   "outputs": [],
   "source": []
  },
  {
   "cell_type": "code",
   "execution_count": null,
   "metadata": {},
   "outputs": [],
   "source": []
  },
  {
   "cell_type": "code",
   "execution_count": null,
   "metadata": {},
   "outputs": [],
   "source": []
  },
  {
   "cell_type": "code",
   "execution_count": null,
   "metadata": {},
   "outputs": [],
   "source": []
  },
  {
   "cell_type": "code",
   "execution_count": null,
   "metadata": {},
   "outputs": [],
   "source": []
  },
  {
   "cell_type": "code",
   "execution_count": null,
   "metadata": {},
   "outputs": [],
   "source": []
  },
  {
   "cell_type": "code",
   "execution_count": null,
   "metadata": {},
   "outputs": [],
   "source": []
  },
  {
   "cell_type": "code",
   "execution_count": null,
   "metadata": {},
   "outputs": [],
   "source": []
  },
  {
   "cell_type": "code",
   "execution_count": null,
   "metadata": {},
   "outputs": [],
   "source": []
  },
  {
   "cell_type": "code",
   "execution_count": null,
   "metadata": {},
   "outputs": [],
   "source": []
  },
  {
   "cell_type": "code",
   "execution_count": null,
   "metadata": {},
   "outputs": [],
   "source": []
  },
  {
   "cell_type": "code",
   "execution_count": null,
   "metadata": {},
   "outputs": [],
   "source": []
  },
  {
   "cell_type": "code",
   "execution_count": null,
   "metadata": {},
   "outputs": [],
   "source": []
  },
  {
   "cell_type": "code",
   "execution_count": null,
   "metadata": {},
   "outputs": [],
   "source": []
  },
  {
   "cell_type": "code",
   "execution_count": null,
   "metadata": {},
   "outputs": [],
   "source": []
  },
  {
   "cell_type": "code",
   "execution_count": null,
   "metadata": {},
   "outputs": [],
   "source": []
  },
  {
   "cell_type": "code",
   "execution_count": null,
   "metadata": {},
   "outputs": [],
   "source": []
  },
  {
   "cell_type": "code",
   "execution_count": null,
   "metadata": {},
   "outputs": [],
   "source": []
  }
 ],
 "metadata": {
  "kernelspec": {
   "display_name": "Python 3",
   "language": "python",
   "name": "python3"
  },
  "language_info": {
   "codemirror_mode": {
    "name": "ipython",
    "version": 3
   },
   "file_extension": ".py",
   "mimetype": "text/x-python",
   "name": "python",
   "nbconvert_exporter": "python",
   "pygments_lexer": "ipython3",
   "version": "3.8.3"
  }
 },
 "nbformat": 4,
 "nbformat_minor": 4
}
